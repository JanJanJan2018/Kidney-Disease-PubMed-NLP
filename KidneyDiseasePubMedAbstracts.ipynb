{
 "cells": [
  {
   "cell_type": "markdown",
   "metadata": {},
   "source": [
    "## Kidney Disease abstracts pulled from PubMed and PLOS sources and the NCBI GEO \n",
    "\n",
    "sample derivation summaries are analyzed in this python 3.6 script to predict the source of the abstract as either GEO, PLOS, or PubMed on Kidney Disease"
   ]
  },
  {
   "cell_type": "code",
   "execution_count": 1,
   "metadata": {},
   "outputs": [],
   "source": [
    "%matplotlib inline \n",
    "import pandas as pd \n",
    "import matplotlib.pyplot as plt \n",
    "from textblob import TextBlob \n",
    "import numpy as np \n",
    "from sklearn.feature_extraction.text import CountVectorizer \n",
    "from sklearn.naive_bayes import MultinomialNB \n",
    "from sklearn.metrics import classification_report, f1_score, accuracy_score, confusion_matrix \n",
    " \n",
    "np.random.seed(507) \n",
    " \n"
   ]
  },
  {
   "cell_type": "code",
   "execution_count": 7,
   "metadata": {},
   "outputs": [],
   "source": [
    "reviews = pd.read_csv('NIH_PLOS_articles_kidney_disease.csv', header=None, na_values='NaN',encoding = 'unicode_escape') \n",
    "#the encoding needed for python3 handling nonASCII chars\n"
   ]
  },
  {
   "cell_type": "code",
   "execution_count": 8,
   "metadata": {},
   "outputs": [
    {
     "data": {
      "text/html": [
       "<div>\n",
       "<style scoped>\n",
       "    .dataframe tbody tr th:only-of-type {\n",
       "        vertical-align: middle;\n",
       "    }\n",
       "\n",
       "    .dataframe tbody tr th {\n",
       "        vertical-align: top;\n",
       "    }\n",
       "\n",
       "    .dataframe thead th {\n",
       "        text-align: right;\n",
       "    }\n",
       "</style>\n",
       "<table border=\"1\" class=\"dataframe\">\n",
       "  <thead>\n",
       "    <tr style=\"text-align: right;\">\n",
       "      <th></th>\n",
       "      <th>0</th>\n",
       "      <th>1</th>\n",
       "    </tr>\n",
       "  </thead>\n",
       "  <tbody>\n",
       "    <tr>\n",
       "      <td>0</td>\n",
       "      <td>Sample GSM4200015 \\t\\tQuery DataSets for GSM42...</td>\n",
       "      <td>GEO</td>\n",
       "    </tr>\n",
       "    <tr>\n",
       "      <td>1</td>\n",
       "      <td>Sample GSM4200016 \\t\\tQuery DataSets for GSM42...</td>\n",
       "      <td>GEO</td>\n",
       "    </tr>\n",
       "    <tr>\n",
       "      <td>2</td>\n",
       "      <td>Sample GSM4200017 \\t\\tQuery DataSets for GSM42...</td>\n",
       "      <td>GEO</td>\n",
       "    </tr>\n",
       "    <tr>\n",
       "      <td>3</td>\n",
       "      <td>Sample GSM4200018 \\t\\tQuery DataSets for GSM42...</td>\n",
       "      <td>GEO</td>\n",
       "    </tr>\n",
       "    <tr>\n",
       "      <td>4</td>\n",
       "      <td>Sample GSM4200019 \\t\\tQuery DataSets for GSM42...</td>\n",
       "      <td>GEO</td>\n",
       "    </tr>\n",
       "    <tr>\n",
       "      <td>...</td>\n",
       "      <td>...</td>\n",
       "      <td>...</td>\n",
       "    </tr>\n",
       "    <tr>\n",
       "      <td>115</td>\n",
       "      <td>NaN</td>\n",
       "      <td>NaN</td>\n",
       "    </tr>\n",
       "    <tr>\n",
       "      <td>116</td>\n",
       "      <td>NaN</td>\n",
       "      <td>NaN</td>\n",
       "    </tr>\n",
       "    <tr>\n",
       "      <td>117</td>\n",
       "      <td>NaN</td>\n",
       "      <td>NaN</td>\n",
       "    </tr>\n",
       "    <tr>\n",
       "      <td>118</td>\n",
       "      <td>NaN</td>\n",
       "      <td>NaN</td>\n",
       "    </tr>\n",
       "    <tr>\n",
       "      <td>119</td>\n",
       "      <td>NaN</td>\n",
       "      <td>NaN</td>\n",
       "    </tr>\n",
       "  </tbody>\n",
       "</table>\n",
       "<p>120 rows × 2 columns</p>\n",
       "</div>"
      ],
      "text/plain": [
       "                                                     0    1\n",
       "0    Sample GSM4200015 \\t\\tQuery DataSets for GSM42...  GEO\n",
       "1    Sample GSM4200016 \\t\\tQuery DataSets for GSM42...  GEO\n",
       "2    Sample GSM4200017 \\t\\tQuery DataSets for GSM42...  GEO\n",
       "3    Sample GSM4200018 \\t\\tQuery DataSets for GSM42...  GEO\n",
       "4    Sample GSM4200019 \\t\\tQuery DataSets for GSM42...  GEO\n",
       "..                                                 ...  ...\n",
       "115                                                NaN  NaN\n",
       "116                                                NaN  NaN\n",
       "117                                                NaN  NaN\n",
       "118                                                NaN  NaN\n",
       "119                                                NaN  NaN\n",
       "\n",
       "[120 rows x 2 columns]"
      ]
     },
     "execution_count": 8,
     "metadata": {},
     "output_type": "execute_result"
    }
   ],
   "source": [
    "reviews\n"
   ]
  },
  {
   "cell_type": "code",
   "execution_count": 12,
   "metadata": {},
   "outputs": [],
   "source": [
    "reviews = reviews.dropna()"
   ]
  },
  {
   "cell_type": "code",
   "execution_count": 13,
   "metadata": {},
   "outputs": [
    {
     "data": {
      "text/plain": [
       "(43, 2)"
      ]
     },
     "execution_count": 13,
     "metadata": {},
     "output_type": "execute_result"
    }
   ],
   "source": [
    "reviews.shape"
   ]
  },
  {
   "cell_type": "code",
   "execution_count": 14,
   "metadata": {},
   "outputs": [],
   "source": [
    "reviews.columns = ['abstract','source']"
   ]
  },
  {
   "cell_type": "code",
   "execution_count": 15,
   "metadata": {},
   "outputs": [
    {
     "name": "stdout",
     "output_type": "stream",
     "text": [
      "                                             abstract  source\n",
      "27  Serum bicarbonate concentrations and kidney di...  PubMed\n",
      "17  The kidney injury caused by the onset of acute...  PubMed\n",
      "3   Sample GSM4200018 \\t\\tQuery DataSets for GSM42...     GEO\n",
      "42  Vascular endothelial growth factor A (VEGF-A) ...    PLOS\n",
      "13  Sample GSM4200028 \\t\\tQuery DataSets for GSM42...     GEO\n",
      "18  Micro RNA-30b (inhibitor) nanoparticles suppre...  PubMed\n",
      "22  Combined exposure to lead, cadmium, mercury, a...  PubMed\n",
      "35  Decrease in Irisin in Patients with Chronic Ki...    PLOS\n",
      "29  Body mass index and early kidney function decl...  PubMed\n",
      "37  The extent of scarring or renal interstitial c...    PLOS\n",
      "5   Sample GSM4200020 \\t\\tQuery DataSets for GSM42...     GEO\n",
      "2   Sample GSM4200017 \\t\\tQuery DataSets for GSM42...     GEO\n",
      "36  In autosomal dominant polycystic kidney diseas...    PLOS\n",
      "19  Association of plasma and urine metals levels ...  PubMed\n",
      "14  Sample GSM4200029 \\t\\tQuery DataSets for GSM42...     GEO\n",
      "31  The decline in kidney function with chromium e...  PubMed\n",
      "28  Serum albumin and kidney function decline in H...  PubMed\n",
      "24  Associations of Plasma Amino Acid and Acylcarn...  PubMed\n",
      "30  Low ankle-brachial index and the development o...  PubMed\n",
      "32  Associations of urinary levels of kidney injur...  PubMed\n",
      "10  Sample GSM4200025 \\t\\tQuery DataSets for GSM42...     GEO\n",
      "7   Sample GSM4200021 \\t\\tQuery DataSets for GSM42...     GEO\n",
      "0   Sample GSM4200015 \\t\\tQuery DataSets for GSM42...     GEO\n",
      "1   Sample GSM4200016 \\t\\tQuery DataSets for GSM42...     GEO\n",
      "12  Sample GSM4200027 \\t\\tQuery DataSets for GSM42...     GEO\n",
      "11  Sample GSM4200026 \\t\\tQuery DataSets for GSM42...     GEO\n",
      "34  Association of Variants atUMODwith Chronic Kid...    PLOS\n",
      "20  Thyroid hormones associate with risk of incide...  PubMed\n",
      "23  NT-proBNP and troponin T and risk of rapid kid...  PubMed\n",
      "9   Sample GSM4200024 \\t\\tQuery DataSets for GSM42...     GEO\n",
      "33  Risk Factors for Rapid Kidney Function Decline...  PubMed\n",
      "21  Low serum bicarbonate and kidney function decl...  PubMed\n",
      "41  In the United States, HIV-related kidney disea...    PLOS\n",
      "38  Chronic kidney disease has become an increasin...    PLOS\n",
      "16  Associations of plasma metal concentrations wi...  PubMed\n",
      "6   Sample GSM4200021 \\t\\tQuery DataSets for GSM42...     GEO\n",
      "25  Association of co-exposure to heavy metals wit...  PubMed\n",
      "40  The association of Helicobacter pylori eradica...    PLOS\n",
      "26  White blood cell count predicts the odds of ki...  PubMed\n",
      "15  Sample GSM4200030 \\t\\tQuery DataSets for GSM42...     GEO\n",
      "8   Sample GSM4200023 \\t\\tQuery DataSets for GSM42...     GEO\n",
      "39  Homoarginine is an amino acid derivative mainl...    PLOS\n",
      "4   Sample GSM4200019 \\t\\tQuery DataSets for GSM42...     GEO\n"
     ]
    }
   ],
   "source": [
    "reviews = reviews.reindex(np.random.permutation(reviews.index))\n",
    "\n",
    "print(reviews)"
   ]
  },
  {
   "cell_type": "code",
   "execution_count": 16,
   "metadata": {},
   "outputs": [
    {
     "name": "stdout",
     "output_type": "stream",
     "text": [
      "                                             abstract  source  length\n",
      "27  Serum bicarbonate concentrations and kidney di...  PubMed    4926\n",
      "17  The kidney injury caused by the onset of acute...  PubMed    3386\n",
      "3   Sample GSM4200018 \\t\\tQuery DataSets for GSM42...     GEO    2879\n",
      "42  Vascular endothelial growth factor A (VEGF-A) ...    PLOS    1404\n",
      "13  Sample GSM4200028 \\t\\tQuery DataSets for GSM42...     GEO    2888\n"
     ]
    }
   ],
   "source": [
    "\n",
    "\n",
    "reviews['length'] = reviews['abstract'].map(lambda text: len(text))\n",
    "print(reviews.head())\n",
    "\n"
   ]
  },
  {
   "cell_type": "code",
   "execution_count": 17,
   "metadata": {},
   "outputs": [
    {
     "data": {
      "text/plain": [
       "<matplotlib.axes._subplots.AxesSubplot at 0x196b0d155f8>"
      ]
     },
     "execution_count": 17,
     "metadata": {},
     "output_type": "execute_result"
    },
    {
     "data": {
      "image/png": "[encoded data removed]",
      "text/plain": [
       "<Figure size 432x288 with 1 Axes>"
      ]
     },
     "metadata": {
      "needs_background": "light"
     },
     "output_type": "display_data"
    }
   ],
   "source": [
    "reviews.length.plot(bins=20, kind='hist') "
   ]
  },
  {
   "cell_type": "code",
   "execution_count": 18,
   "metadata": {},
   "outputs": [
    {
     "data": {
      "text/plain": [
       "count      43.000000\n",
       "mean     2893.279070\n",
       "std       978.819243\n",
       "min       394.000000\n",
       "25%      2873.000000\n",
       "50%      2894.000000\n",
       "75%      3566.500000\n",
       "max      4926.000000\n",
       "Name: length, dtype: float64"
      ]
     },
     "execution_count": 18,
     "metadata": {},
     "output_type": "execute_result"
    }
   ],
   "source": [
    "reviews.length.describe()"
   ]
  },
  {
   "cell_type": "code",
   "execution_count": 19,
   "metadata": {},
   "outputs": [
    {
     "name": "stdout",
     "output_type": "stream",
     "text": [
      "[27, 22, 19, 28, 33, 21, 16, 25]\n",
      "['PubMed', 'PubMed', 'PubMed', 'PubMed', 'PubMed', 'PubMed', 'PubMed', 'PubMed']\n"
     ]
    }
   ],
   "source": [
    "print(list(reviews.abstract[reviews.length > 3700].index)) #near the max for length of LemmatizedTweets\n",
    "print(list(reviews.source[reviews.length > 3700]))\n"
   ]
  },
  {
   "cell_type": "code",
   "execution_count": 20,
   "metadata": {},
   "outputs": [
    {
     "name": "stdout",
     "output_type": "stream",
     "text": [
      "Wall time: 303 ms\n"
     ]
    },
    {
     "data": {
      "text/plain": [
       "array([[<matplotlib.axes._subplots.AxesSubplot object at 0x00000196B0E13320>,\n",
       "        <matplotlib.axes._subplots.AxesSubplot object at 0x00000196B0E674E0>],\n",
       "       [<matplotlib.axes._subplots.AxesSubplot object at 0x00000196B0E95A90>,\n",
       "        <matplotlib.axes._subplots.AxesSubplot object at 0x00000196B0ED3080>]],\n",
       "      dtype=object)"
      ]
     },
     "execution_count": 20,
     "metadata": {},
     "output_type": "execute_result"
    },
    {
     "data": {
      "image/png": "[encoded data removed]",
      "text/plain": [
       "<Figure size 432x288 with 4 Axes>"
      ]
     },
     "metadata": {
      "needs_background": "light"
     },
     "output_type": "display_data"
    }
   ],
   "source": [
    "%%time\n",
    "reviews.hist(column='length', by='source', bins=5)"
   ]
  },
  {
   "cell_type": "code",
   "execution_count": 21,
   "metadata": {},
   "outputs": [],
   "source": [
    "def split_into_tokens(review):\n",
    "    \n",
    "    #review = unicode(review, 'iso-8859-1')# in python 3 the default of str() previously python2 as unicode() is utf-8\n",
    "    return TextBlob(review).words"
   ]
  },
  {
   "cell_type": "code",
   "execution_count": 22,
   "metadata": {},
   "outputs": [
    {
     "data": {
      "text/plain": [
       "27    [Serum, bicarbonate, concentrations, and, kidn...\n",
       "17    [The, kidney, injury, caused, by, the, onset, ...\n",
       "3     [Sample, GSM4200018, Query, DataSets, for, GSM...\n",
       "42    [Vascular, endothelial, growth, factor, A, VEG...\n",
       "13    [Sample, GSM4200028, Query, DataSets, for, GSM...\n",
       "Name: abstract, dtype: object"
      ]
     },
     "execution_count": 22,
     "metadata": {},
     "output_type": "execute_result"
    }
   ],
   "source": [
    "\n",
    "\n",
    "reviews.abstract.head().apply(split_into_tokens)\n",
    "\n"
   ]
  },
  {
   "cell_type": "code",
   "execution_count": 23,
   "metadata": {},
   "outputs": [
    {
     "data": {
      "text/plain": [
       "[('hello', 'JJ'),\n",
       " ('world', 'NN'),\n",
       " ('how', 'WRB'),\n",
       " ('is', 'VBZ'),\n",
       " ('it', 'PRP'),\n",
       " ('going', 'VBG')]"
      ]
     },
     "execution_count": 23,
     "metadata": {},
     "output_type": "execute_result"
    }
   ],
   "source": [
    "TextBlob(\"hello world, how is it going?\").tags"
   ]
  },
  {
   "cell_type": "code",
   "execution_count": 24,
   "metadata": {},
   "outputs": [
    {
     "name": "stderr",
     "output_type": "stream",
     "text": [
      "[nltk_data] Downloading package stopwords to\n",
      "[nltk_data]     C:\\Users\\m\\AppData\\Roaming\\nltk_data...\n",
      "[nltk_data]   Package stopwords is already up-to-date!\n"
     ]
    },
    {
     "data": {
      "text/plain": [
       "True"
      ]
     },
     "execution_count": 24,
     "metadata": {},
     "output_type": "execute_result"
    }
   ],
   "source": [
    "\n",
    "\n",
    "import nltk\n",
    "nltk.download('stopwords')\n",
    "\n"
   ]
  },
  {
   "cell_type": "code",
   "execution_count": 25,
   "metadata": {},
   "outputs": [],
   "source": [
    "from nltk.corpus import stopwords\n",
    "\n",
    "stop = stopwords.words('english')\n",
    "stop = stop + [u'a',u'b',u'c',u'd',u'e',u'f',u'g',u'h',u'i',u'j',u'k',u'l',u'm',u'n',u'o',u'p',u'q',u'r',u's',u't',u'v',u'w',u'x',u'y',u'z']"
   ]
  },
  {
   "cell_type": "code",
   "execution_count": 26,
   "metadata": {},
   "outputs": [
    {
     "data": {
      "text/plain": [
       "27    [serum, bicarbonate, concentration, kidney, di...\n",
       "17    [kidney, injury, caused, onset, acute, graft-v...\n",
       "3     [sample, gsm4200018, query, datasets, gsm42000...\n",
       "42    [vascular, endothelial, growth, factor, vegf-a...\n",
       "13    [sample, gsm4200028, query, datasets, gsm42000...\n",
       "Name: abstract, dtype: object"
      ]
     },
     "execution_count": 26,
     "metadata": {},
     "output_type": "execute_result"
    }
   ],
   "source": [
    "def split_into_lemmas(review):\n",
    "    #review = unicode(review, 'iso-8859-1')\n",
    "    review = review.lower()\n",
    "    #review = unicode(review, 'utf8').lower()\n",
    "    #review = str(review).lower()\n",
    "    words = TextBlob(review).words\n",
    "    # for each word, take its \"base form\" = lemma \n",
    "    return [word.lemma for word in words if word not in stop]\n",
    "\n",
    "reviews.abstract.head().apply(split_into_lemmas)"
   ]
  },
  {
   "cell_type": "code",
   "execution_count": 27,
   "metadata": {},
   "outputs": [
    {
     "name": "stdout",
     "output_type": "stream",
     "text": [
      "2265\n",
      "Wall time: 906 ms\n"
     ]
    }
   ],
   "source": [
    "%%time\n",
    "# bag of words on the comments\n",
    "bow_transformer = CountVectorizer(analyzer=split_into_lemmas).fit(reviews['abstract'])\n",
    "print(len(bow_transformer.vocabulary_))\n"
   ]
  },
  {
   "cell_type": "code",
   "execution_count": 28,
   "metadata": {},
   "outputs": [
    {
     "name": "stdout",
     "output_type": "stream",
     "text": [
      "Sample GSM4200019 \t\tQuery DataSets for GSM4200019\n",
      "Status \tPublic on Dec 03, 2019\n",
      "Title \tAK86p1Adh\n",
      "Sample type \tSRA\n",
      "  \t\n",
      "Source name \tHuman Adult kidney\n",
      "Organism \tHomo sapiens\n",
      "Characteristics \ttissue: Kidney\n",
      "patients status: Healthy\n",
      "culture conditions: Adherent\n",
      "Treatment protocol \tnSPH formation: hKEpC were thawed and grown as 2D monolayers for 5-7 days. Upon reaching confluency of 80-100%, the cells were harvested and seeded on poly (2-hydroxyethylmethacrylate) (poly-HEMA; Sigma-Aldrich)-precoated plates, in serum free medium (SFM), at a concentration of 5.5?13x104 cells/mL. SFM was comprised of N2 medium (Biological Industries) supplemented with 1% Pen-strep 100M, 1% L-glutamine, 0.4% B27 supplement (Gibco), 4æg/ml heparin sodium (Intramed), 1% non-essential amino acids, 1% sodium pyruvate, 0.2% CD Lipid concentrate (all purchased from Invitrogen), 2.4mg/ml glucose, 0.4mg/ml transferrin, 10mg/ml insulin, 38.66æg/ml putrescine, 0.04% sodium selenite, 12.6æg/ml progesterone (all from Sigma-Aldrich), 10ng/ml FGF and 20ng/ml EGF.\n",
      "Growth protocol \tHuman kidney samples were retrieved from the borders of renal cell carcinoma (RCC) tumors resected from partial and total nephrectomy patients. Collected tissues were washed with PBS,weighed and minced into ~1 mm slices using sterile surgical scalpels. The dissected tissue was then incubated for two hours at 37øC with Iscoves' Modified Dulbecco's Medium (IMDM) .(Invitrogen) supplemented with 0.1% collagenase IV (Invitrogen). The digested tissue was sieved through 100 æm cell strainers to achieve a single cell suspension. The medium was removed by centrifugation and the cells were resuspended in growth medium and plated on gelatin-coated T175 flasks. Serum containing medium (SCM) was comprised of IMDM (Biological Industries) supplemented with 10% fetal bovine serum (Invitrogen), 1% Pen-strep 100M, 1% L-glutamine (both purchased from Biological industries), 100 ng/ml EGF, 100 ng/ml bFGF and 10 ng/ml SCF (all growth factors were purchased from Peprotech Asia).\n",
      "Extracted molecule \tpolyA RNA\n",
      "Extraction protocol \thKEpC were thawed and grown as 2D monolayers for 5-7 days. Upon reaching confluency of 80-100%, the cells were harvested and seeded on poly (2-hydroxyethylmethacrylate) (poly-HEMA; Sigma-Aldrich)-precoated plates, in serum free medium (SFM), at a concentration of 5.5?13x104 cells/mL. SFM was comprised of N2 medium (Biological Industries) supplemented with 1% Pen-strep 100M, 1% L-glutamine, 0.4% B27 supplement (Gibco), 4æg/ml heparin sodium (Intramed), 1% non-essential amino acids, 1% sodium pyruvate, 0.2% CD Lipid concentrate (all purchased from Invitrogen), 2.4mg/ml glucose, 0.4mg/ml transferrin, 10mg/ml insulin, 38.66æg/ml putrescine, 0.04% sodium selenite, 12.6æg/ml progesterone (all from Sigma-Aldrich), 10ng/ml FGF and 20ng/ml EGF.\n",
      "TruSeq mRNA-Seq library kit (Illumina)\n",
      "  \t\n",
      "Library strategy \tRNA-Seq\n",
      "Library source \ttranscriptomic\n",
      "Library selection \tcDNA\n",
      "Instrument model \tIllumina HiSeq 2500\n",
      "  \t\n",
      "Description \tAK86.xlsx\n",
      "Data processing \tMapping to hg19 using TopHat v2.1.0 python 2.7.5 using the '-p 8' parameter\n",
      "Indexing bam file created by tophat: 'samtools index'\n",
      "Sorting bam file for later use by htseq-count: 'samtools sort -n'\n",
      "Counting genes using htseq-count version HTSeq-0.6.1p1-py2.7-linux-x86_64 on python 2.7.5 ' htseq-count -f bam -s no -a 10 '\n",
      "Genome_build: hg19\n",
      "Supplementary_files_format_and_content: Excel spreadsheet with gene counts per sample, 4 samples in each file, each file corresponds to different \"sphere\" numbered 82, 85, 104, 105\n"
     ]
    }
   ],
   "source": [
    "review4 = reviews['abstract'][4]\n",
    "print(review4)"
   ]
  },
  {
   "cell_type": "code",
   "execution_count": 29,
   "metadata": {},
   "outputs": [],
   "source": [
    "bow4 = bow_transformer.transform([review4])\n"
   ]
  },
  {
   "cell_type": "code",
   "execution_count": 30,
   "metadata": {},
   "outputs": [
    {
     "name": "stdout",
     "output_type": "stream",
     "text": [
      "sparse matrix shape: (43, 2265)\n",
      "number of non-zeros: 7310\n",
      "sparsity: 7.51%\n",
      "Wall time: 766 ms\n"
     ]
    }
   ],
   "source": [
    "%%time\n",
    "reviews_bow = bow_transformer.transform(reviews['abstract'])\n",
    "print('sparse matrix shape:', reviews_bow.shape)\n",
    "print('number of non-zeros:', reviews_bow.nnz)\n",
    "print('sparsity: %.2f%%' % (100.0 * reviews_bow.nnz / (reviews_bow.shape[0] * reviews_bow.shape[1])))"
   ]
  },
  {
   "cell_type": "code",
   "execution_count": 34,
   "metadata": {},
   "outputs": [
    {
     "name": "stdout",
     "output_type": "stream",
     "text": [
      "(34, 2265)\n",
      "(9, 2265)\n"
     ]
    }
   ],
   "source": [
    "\n",
    "#reviews was permutated earlier, so taking the order is random\n",
    "# Split/splice into training ~ 80% and testing ~ 20%\n",
    "reviews_bow_train = reviews_bow[:34]\n",
    "reviews_bow_test = reviews_bow[34:]\n",
    "reviews_sentiment_train = reviews['source'][:34]\n",
    "reviews_sentiment_test = reviews['source'][34:]\n",
    "\n",
    "print(reviews_bow_train.shape)\n",
    "print(reviews_bow_test.shape)\n",
    "\n"
   ]
  },
  {
   "cell_type": "code",
   "execution_count": 35,
   "metadata": {},
   "outputs": [
    {
     "data": {
      "text/plain": [
       "array(['PubMed', 'GEO', 'PLOS'], dtype=object)"
      ]
     },
     "execution_count": 35,
     "metadata": {},
     "output_type": "execute_result"
    }
   ],
   "source": [
    "reviews_sentiment_test.unique()"
   ]
  },
  {
   "cell_type": "code",
   "execution_count": 36,
   "metadata": {},
   "outputs": [
    {
     "name": "stdout",
     "output_type": "stream",
     "text": [
      "Wall time: 0 ns\n"
     ]
    }
   ],
   "source": [
    "\n",
    "\n",
    "%time \n",
    "review_sentiment = MultinomialNB().fit(reviews_bow_train, reviews_sentiment_train)\n",
    "\n"
   ]
  },
  {
   "cell_type": "code",
   "execution_count": 38,
   "metadata": {},
   "outputs": [
    {
     "name": "stdout",
     "output_type": "stream",
     "text": [
      "predicted: GEO\n",
      "expected: GEO\n"
     ]
    }
   ],
   "source": [
    "\n",
    "print('predicted:', review_sentiment.predict(bow4)[0])\n",
    "print('expected:', reviews.source[4])\n",
    "\n"
   ]
  },
  {
   "cell_type": "code",
   "execution_count": 39,
   "metadata": {},
   "outputs": [
    {
     "name": "stdout",
     "output_type": "stream",
     "text": [
      "['PubMed' 'GEO' 'PubMed' 'PLOS' 'PubMed' 'GEO' 'GEO' 'PLOS' 'GEO']\n"
     ]
    }
   ],
   "source": [
    "\n",
    "\n",
    "predictions = review_sentiment.predict(reviews_bow_test)\n",
    "print(predictions)\n",
    "\n"
   ]
  },
  {
   "cell_type": "code",
   "execution_count": 41,
   "metadata": {},
   "outputs": [
    {
     "name": "stdout",
     "output_type": "stream",
     "text": [
      "accuracy 1.0\n",
      "confusion matrix\n",
      " [[4 0 0]\n",
      " [0 2 0]\n",
      " [0 0 3]]\n",
      "(row=expected, col=predicted)\n",
      "Results alphabetized as GEO, PLOS, then PubMed for source results predicted and expected\n"
     ]
    }
   ],
   "source": [
    "print('accuracy', accuracy_score(reviews_sentiment_test, predictions))\n",
    "print('confusion matrix\\n', confusion_matrix(reviews_sentiment_test, predictions))\n",
    "print('(row=expected, col=predicted)')\n",
    "print('Results alphabetized as GEO, PLOS, then PubMed for source results predicted and expected')"
   ]
  },
  {
   "cell_type": "code",
   "execution_count": 42,
   "metadata": {},
   "outputs": [
    {
     "name": "stdout",
     "output_type": "stream",
     "text": [
      "              precision    recall  f1-score   support\n",
      "\n",
      "         GEO       1.00      1.00      1.00         4\n",
      "        PLOS       1.00      1.00      1.00         2\n",
      "      PubMed       1.00      1.00      1.00         3\n",
      "\n",
      "    accuracy                           1.00         9\n",
      "   macro avg       1.00      1.00      1.00         9\n",
      "weighted avg       1.00      1.00      1.00         9\n",
      "\n"
     ]
    }
   ],
   "source": [
    "print(classification_report(reviews_sentiment_test, predictions))\n",
    "#The F1 score can be interpreted as a weighted average of the precision and recall, \n",
    "#where an F1 score reaches its best value at 1 and worst score at 0."
   ]
  },
  {
   "cell_type": "code",
   "execution_count": 43,
   "metadata": {},
   "outputs": [],
   "source": [
    "def predict_review(new_review): \n",
    "    new_sample = bow_transformer.transform([new_review])\n",
    "    print(new_review, np.around(review_sentiment.predict_proba(new_sample), decimals=2), \n",
    "          '\\n')"
   ]
  },
  {
   "cell_type": "markdown",
   "metadata": {},
   "source": [
    "### Values returned alphabatized for Type: no, yes are values returned in the array order"
   ]
  },
  {
   "cell_type": "code",
   "execution_count": 47,
   "metadata": {},
   "outputs": [
    {
     "name": "stdout",
     "output_type": "stream",
     "text": [
      "Results alphabetized as GEO, PLOS, then PubMed for source results predicted being the highest probability:\n",
      "\n",
      "in vivo. cell culture. growth. [[1. 0. 0.]] \n",
      "\n",
      "radiating pain. [[0.24 0.27 0.49]] \n",
      "\n",
      "quality of life. [[0.19 0.22 0.59]] \n",
      "\n",
      "I don't like spaghetti. [[0.35 0.21 0.44]] \n",
      "\n",
      "samples derived. university research. [[0.01 0.05 0.94]] \n",
      "\n"
     ]
    }
   ],
   "source": [
    "print('Results alphabetized as GEO, PLOS, then PubMed for source results predicted being the highest probability:\\n')\n",
    "predict_review('in vivo. cell culture. growth.')\n",
    "\n",
    "predict_review('radiating pain.')\n",
    "\n",
    "predict_review('quality of life.')\n",
    "predict_review('I don\\'t like spaghetti.')\n",
    "\n",
    "predict_review('samples derived. university research.')"
   ]
  },
  {
   "cell_type": "code",
   "execution_count": 48,
   "metadata": {},
   "outputs": [
    {
     "data": {
      "text/html": [
       "<div>\n",
       "<style scoped>\n",
       "    .dataframe tbody tr th:only-of-type {\n",
       "        vertical-align: middle;\n",
       "    }\n",
       "\n",
       "    .dataframe tbody tr th {\n",
       "        vertical-align: top;\n",
       "    }\n",
       "\n",
       "    .dataframe thead tr th {\n",
       "        text-align: left;\n",
       "    }\n",
       "\n",
       "    .dataframe thead tr:last-of-type th {\n",
       "        text-align: right;\n",
       "    }\n",
       "</style>\n",
       "<table border=\"1\" class=\"dataframe\">\n",
       "  <thead>\n",
       "    <tr>\n",
       "      <th></th>\n",
       "      <th colspan=\"8\" halign=\"left\">length</th>\n",
       "    </tr>\n",
       "    <tr>\n",
       "      <th></th>\n",
       "      <th>count</th>\n",
       "      <th>mean</th>\n",
       "      <th>std</th>\n",
       "      <th>min</th>\n",
       "      <th>25%</th>\n",
       "      <th>50%</th>\n",
       "      <th>75%</th>\n",
       "      <th>max</th>\n",
       "    </tr>\n",
       "    <tr>\n",
       "      <th>source</th>\n",
       "      <th></th>\n",
       "      <th></th>\n",
       "      <th></th>\n",
       "      <th></th>\n",
       "      <th></th>\n",
       "      <th></th>\n",
       "      <th></th>\n",
       "      <th></th>\n",
       "    </tr>\n",
       "  </thead>\n",
       "  <tbody>\n",
       "    <tr>\n",
       "      <td>GEO</td>\n",
       "      <td>16.0</td>\n",
       "      <td>3140.125000</td>\n",
       "      <td>342.826462</td>\n",
       "      <td>2876.0</td>\n",
       "      <td>2879.0</td>\n",
       "      <td>2888.0</td>\n",
       "      <td>3557.00</td>\n",
       "      <td>3587.0</td>\n",
       "    </tr>\n",
       "    <tr>\n",
       "      <td>PLOS</td>\n",
       "      <td>9.0</td>\n",
       "      <td>1408.111111</td>\n",
       "      <td>753.929944</td>\n",
       "      <td>394.0</td>\n",
       "      <td>801.0</td>\n",
       "      <td>1404.0</td>\n",
       "      <td>1656.00</td>\n",
       "      <td>2886.0</td>\n",
       "    </tr>\n",
       "    <tr>\n",
       "      <td>PubMed</td>\n",
       "      <td>18.0</td>\n",
       "      <td>3416.444444</td>\n",
       "      <td>693.514004</td>\n",
       "      <td>1726.0</td>\n",
       "      <td>3060.5</td>\n",
       "      <td>3408.5</td>\n",
       "      <td>3811.75</td>\n",
       "      <td>4926.0</td>\n",
       "    </tr>\n",
       "  </tbody>\n",
       "</table>\n",
       "</div>"
      ],
      "text/plain": [
       "       length                                                            \\\n",
       "        count         mean         std     min     25%     50%      75%   \n",
       "source                                                                    \n",
       "GEO      16.0  3140.125000  342.826462  2876.0  2879.0  2888.0  3557.00   \n",
       "PLOS      9.0  1408.111111  753.929944   394.0   801.0  1404.0  1656.00   \n",
       "PubMed   18.0  3416.444444  693.514004  1726.0  3060.5  3408.5  3811.75   \n",
       "\n",
       "                \n",
       "           max  \n",
       "source          \n",
       "GEO     3587.0  \n",
       "PLOS    2886.0  \n",
       "PubMed  4926.0  "
      ]
     },
     "execution_count": 48,
     "metadata": {},
     "output_type": "execute_result"
    }
   ],
   "source": [
    "reviews.groupby('source').describe()"
   ]
  },
  {
   "cell_type": "markdown",
   "metadata": {},
   "source": [
    "If you get back the probabilities, it is because there weren't a bag of words generated or improperly set to the type\n",
    "instead of the comments or reviews."
   ]
  },
  {
   "cell_type": "code",
   "execution_count": null,
   "metadata": {},
   "outputs": [],
   "source": []
  }
 ],
 "metadata": {
  "kernelspec": {
   "display_name": "Python 3",
   "language": "python",
   "name": "python3"
  },
  "language_info": {
   "codemirror_mode": {
    "name": "ipython",
    "version": 3
   },
   "file_extension": ".py",
   "mimetype": "text/x-python",
   "name": "python",
   "nbconvert_exporter": "python",
   "pygments_lexer": "ipython3",
   "version": "3.6.9"
  }
 },
 "nbformat": 4,
 "nbformat_minor": 2
}
